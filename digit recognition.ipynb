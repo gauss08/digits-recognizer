{
 "cells": [
  {
   "cell_type": "code",
   "execution_count": 1,
   "id": "84ff3c10",
   "metadata": {},
   "outputs": [
    {
     "name": "stderr",
     "output_type": "stream",
     "text": [
      "2023-07-04 11:25:37.258851: I tensorflow/core/util/port.cc:110] oneDNN custom operations are on. You may see slightly different numerical results due to floating-point round-off errors from different computation orders. To turn them off, set the environment variable `TF_ENABLE_ONEDNN_OPTS=0`.\n",
      "2023-07-04 11:25:37.269901: I tensorflow/tsl/cuda/cudart_stub.cc:28] Could not find cuda drivers on your machine, GPU will not be used.\n",
      "2023-07-04 11:25:37.345231: I tensorflow/tsl/cuda/cudart_stub.cc:28] Could not find cuda drivers on your machine, GPU will not be used.\n",
      "2023-07-04 11:25:37.345720: I tensorflow/core/platform/cpu_feature_guard.cc:182] This TensorFlow binary is optimized to use available CPU instructions in performance-critical operations.\n",
      "To enable the following instructions: AVX2 AVX_VNNI FMA, in other operations, rebuild TensorFlow with the appropriate compiler flags.\n",
      "2023-07-04 11:25:37.868678: W tensorflow/compiler/tf2tensorrt/utils/py_utils.cc:38] TF-TRT Warning: Could not find TensorRT\n"
     ]
    }
   ],
   "source": [
    "import pandas as pd\n",
    "import numpy as np\n",
    "import matplotlib.pyplot as plt\n",
    "import seaborn as sns\n",
    "\n",
    "from sklearn.model_selection import train_test_split\n",
    "from sklearn.metrics import confusion_matrix\n",
    "\n",
    "from keras.models import Sequential\n",
    "from keras.layers import Dense,Flatten,Conv2D,MaxPool2D,Dropout\n",
    "from keras.optimizers import RMSprop\n",
    "from keras.preprocessing.image import ImageDataGenerator\n",
    "from keras.callbacks import ReduceLROnPlateau\n",
    "from keras.utils.np_utils import to_categorical\n",
    "\n",
    "sns.set()"
   ]
  },
  {
   "cell_type": "code",
   "execution_count": 2,
   "id": "2096b130",
   "metadata": {},
   "outputs": [],
   "source": [
    "test=pd.read_csv('test.csv')\n",
    "train=pd.read_csv('train.csv')"
   ]
  },
  {
   "cell_type": "code",
   "execution_count": 3,
   "id": "67b68b9d",
   "metadata": {},
   "outputs": [
    {
     "name": "stdout",
     "output_type": "stream",
     "text": [
      "<class 'pandas.core.frame.DataFrame'>\n",
      "RangeIndex: 42000 entries, 0 to 41999\n",
      "Columns: 785 entries, label to pixel783\n",
      "dtypes: int64(785)\n",
      "memory usage: 251.5 MB\n"
     ]
    }
   ],
   "source": [
    "train.info()"
   ]
  },
  {
   "cell_type": "code",
   "execution_count": 4,
   "id": "63bbfbfa",
   "metadata": {},
   "outputs": [
    {
     "data": {
      "text/plain": [
       "Index(['label', 'pixel0', 'pixel1', 'pixel2', 'pixel3', 'pixel4', 'pixel5',\n",
       "       'pixel6', 'pixel7', 'pixel8',\n",
       "       ...\n",
       "       'pixel774', 'pixel775', 'pixel776', 'pixel777', 'pixel778', 'pixel779',\n",
       "       'pixel780', 'pixel781', 'pixel782', 'pixel783'],\n",
       "      dtype='object', length=785)"
      ]
     },
     "execution_count": 4,
     "metadata": {},
     "output_type": "execute_result"
    }
   ],
   "source": [
    "train.columns"
   ]
  },
  {
   "cell_type": "code",
   "execution_count": 5,
   "id": "e485ffe7",
   "metadata": {},
   "outputs": [],
   "source": [
    "y_train=train['label']\n",
    "x_train=train.drop('label',axis=1)"
   ]
  },
  {
   "cell_type": "code",
   "execution_count": 6,
   "id": "ebf3478e",
   "metadata": {},
   "outputs": [
    {
     "data": {
      "text/plain": [
       "<Axes: xlabel='label', ylabel='count'>"
      ]
     },
     "execution_count": 6,
     "metadata": {},
     "output_type": "execute_result"
    },
    {
     "data": {
      "image/png": "[encoded data removed]",
      "text/plain": [
       "<Figure size 432x288 with 1 Axes>"
      ]
     },
     "metadata": {},
     "output_type": "display_data"
    }
   ],
   "source": [
    "sns.countplot(x=y_train)"
   ]
  },
  {
   "cell_type": "code",
   "execution_count": 7,
   "id": "979a605d",
   "metadata": {},
   "outputs": [
    {
     "data": {
      "text/plain": [
       "label\n",
       "1    4684\n",
       "7    4401\n",
       "3    4351\n",
       "9    4188\n",
       "2    4177\n",
       "6    4137\n",
       "0    4132\n",
       "4    4072\n",
       "8    4063\n",
       "5    3795\n",
       "Name: count, dtype: int64"
      ]
     },
     "execution_count": 7,
     "metadata": {},
     "output_type": "execute_result"
    }
   ],
   "source": [
    "y_train.value_counts()"
   ]
  },
  {
   "cell_type": "code",
   "execution_count": 8,
   "id": "98edac6a",
   "metadata": {},
   "outputs": [
    {
     "data": {
      "text/plain": [
       "count       784\n",
       "unique        1\n",
       "top       False\n",
       "freq        784\n",
       "dtype: object"
      ]
     },
     "execution_count": 8,
     "metadata": {},
     "output_type": "execute_result"
    }
   ],
   "source": [
    "x_train.isnull().any().describe()"
   ]
  },
  {
   "cell_type": "code",
   "execution_count": 9,
   "id": "c1411400",
   "metadata": {},
   "outputs": [],
   "source": [
    "x_train=x_train/255.\n",
    "test=test/255."
   ]
  },
  {
   "cell_type": "code",
   "execution_count": 10,
   "id": "2a7f4a83",
   "metadata": {},
   "outputs": [
    {
     "data": {
      "text/plain": [
       "(42000, 784)"
      ]
     },
     "execution_count": 10,
     "metadata": {},
     "output_type": "execute_result"
    }
   ],
   "source": [
    "x_train.shape"
   ]
  },
  {
   "cell_type": "code",
   "execution_count": 11,
   "id": "dab0133f",
   "metadata": {},
   "outputs": [],
   "source": [
    "x_train=x_train.values.reshape(-1,28,28,1)\n",
    "test=test.values.reshape(-1,28,28,1)"
   ]
  },
  {
   "cell_type": "code",
   "execution_count": 12,
   "id": "e73ce4da",
   "metadata": {},
   "outputs": [
    {
     "data": {
      "text/plain": [
       "(42000, 28, 28, 1)"
      ]
     },
     "execution_count": 12,
     "metadata": {},
     "output_type": "execute_result"
    }
   ],
   "source": [
    "x_train.shape"
   ]
  },
  {
   "cell_type": "code",
   "execution_count": 13,
   "id": "884be571",
   "metadata": {},
   "outputs": [],
   "source": [
    "y_train=to_categorical(y_train,num_classes=10)"
   ]
  },
  {
   "cell_type": "code",
   "execution_count": 14,
   "id": "8d6058db",
   "metadata": {},
   "outputs": [],
   "source": [
    "X_train,X_val,y_train,y_val=train_test_split(x_train,y_train,test_size=0.1,random_state=8)"
   ]
  },
  {
   "cell_type": "code",
   "execution_count": 15,
   "id": "8fef37ec",
   "metadata": {},
   "outputs": [
    {
     "data": {
      "text/plain": [
       "(-0.5, 27.5, 27.5, -0.5)"
      ]
     },
     "execution_count": 15,
     "metadata": {},
     "output_type": "execute_result"
    },
    {
     "data": {
      "image/png": "[encoded data removed]",
      "text/plain": [
       "<Figure size 432x288 with 1 Axes>"
      ]
     },
     "metadata": {},
     "output_type": "display_data"
    }
   ],
   "source": [
    "plt.imshow(X_train[0][:,:,0],cmap='binary')\n",
    "plt.axis('off')"
   ]
  },
  {
   "cell_type": "code",
   "execution_count": 16,
   "id": "13d0f8fb",
   "metadata": {},
   "outputs": [],
   "source": [
    "model=Sequential()\n",
    "model.add(Conv2D(filters=32,kernel_size=(5,5),padding='same',activation='relu',input_shape=(28,28,1)))\n",
    "model.add(Conv2D(filters=32,kernel_size=(5,5),padding='same',activation='relu'))\n",
    "model.add(MaxPool2D(pool_size=(2,2)))\n",
    "model.add(Dropout(0.25))\n",
    "\n",
    "model.add(Conv2D(filters=64,kernel_size=(3,3),padding='same',activation='relu',))\n",
    "model.add(Conv2D(filters=64,kernel_size=(3,3),padding='same',activation='relu',))\n",
    "model.add(MaxPool2D(pool_size=(2,2),strides=(2,2)))\n",
    "model.add(Dropout(0.25))\n",
    "\n",
    "model.add(Flatten())\n",
    "model.add(Dense(256,activation='relu'))\n",
    "model.add(Dropout(0.5))\n",
    "model.add(Dense(10,activation='softmax'))"
   ]
  },
  {
   "cell_type": "code",
   "execution_count": 17,
   "id": "8bcf5e09",
   "metadata": {},
   "outputs": [],
   "source": [
    "optimizer=RMSprop(learning_rate=0.001,rho=0.9,epsilon=1e-08,decay=0.0)\n",
    "model.compile(optimizer=optimizer,loss='categorical_crossentropy',metrics='accuracy')"
   ]
  },
  {
   "cell_type": "code",
   "execution_count": 18,
   "id": "98c49cff",
   "metadata": {},
   "outputs": [],
   "source": [
    "learning_rate_reduction=ReduceLROnPlateau(monitor='val_acc',\n",
    "                                        patience=3,\n",
    "                                        verbose=1,\n",
    "                                        factor=0.5,\n",
    "                                        mini_lr=0.00001)"
   ]
  },
  {
   "cell_type": "code",
   "execution_count": 19,
   "id": "5bad5831",
   "metadata": {},
   "outputs": [
    {
     "name": "stdout",
     "output_type": "stream",
     "text": [
      "Epoch 1/30\n",
      "590/591 [============================>.] - ETA: 0s - loss: 0.2241 - accuracy: 0.9283WARNING:tensorflow:Learning rate reduction is conditioned on metric `val_acc` which is not available. Available metrics are: loss,accuracy,val_loss,val_accuracy,lr\n",
      "591/591 [==============================] - 15s 25ms/step - loss: 0.2240 - accuracy: 0.9283 - val_loss: 0.0883 - val_accuracy: 0.9707 - lr: 0.0010\n",
      "Epoch 2/30\n",
      "591/591 [==============================] - ETA: 0s - loss: 0.0711 - accuracy: 0.9787WARNING:tensorflow:Learning rate reduction is conditioned on metric `val_acc` which is not available. Available metrics are: loss,accuracy,val_loss,val_accuracy,lr\n",
      "591/591 [==============================] - 15s 25ms/step - loss: 0.0711 - accuracy: 0.9787 - val_loss: 0.0538 - val_accuracy: 0.9826 - lr: 0.0010\n",
      "Epoch 3/30\n",
      "590/591 [============================>.] - ETA: 0s - loss: 0.0506 - accuracy: 0.9851WARNING:tensorflow:Learning rate reduction is conditioned on metric `val_acc` which is not available. Available metrics are: loss,accuracy,val_loss,val_accuracy,lr\n",
      "591/591 [==============================] - 15s 26ms/step - loss: 0.0505 - accuracy: 0.9851 - val_loss: 0.0431 - val_accuracy: 0.9855 - lr: 0.0010\n",
      "Epoch 4/30\n",
      "591/591 [==============================] - ETA: 0s - loss: 0.0454 - accuracy: 0.9866WARNING:tensorflow:Learning rate reduction is conditioned on metric `val_acc` which is not available. Available metrics are: loss,accuracy,val_loss,val_accuracy,lr\n",
      "591/591 [==============================] - 15s 25ms/step - loss: 0.0454 - accuracy: 0.9866 - val_loss: 0.0375 - val_accuracy: 0.9890 - lr: 0.0010\n",
      "Epoch 5/30\n",
      "591/591 [==============================] - ETA: 0s - loss: 0.0401 - accuracy: 0.9884WARNING:tensorflow:Learning rate reduction is conditioned on metric `val_acc` which is not available. Available metrics are: loss,accuracy,val_loss,val_accuracy,lr\n",
      "591/591 [==============================] - 15s 25ms/step - loss: 0.0401 - accuracy: 0.9884 - val_loss: 0.0286 - val_accuracy: 0.9912 - lr: 0.0010\n",
      "Epoch 6/30\n",
      "590/591 [============================>.] - ETA: 0s - loss: 0.0383 - accuracy: 0.9887WARNING:tensorflow:Learning rate reduction is conditioned on metric `val_acc` which is not available. Available metrics are: loss,accuracy,val_loss,val_accuracy,lr\n",
      "591/591 [==============================] - 15s 25ms/step - loss: 0.0383 - accuracy: 0.9888 - val_loss: 0.0311 - val_accuracy: 0.9893 - lr: 0.0010\n",
      "Epoch 7/30\n",
      "590/591 [============================>.] - ETA: 0s - loss: 0.0373 - accuracy: 0.9890WARNING:tensorflow:Learning rate reduction is conditioned on metric `val_acc` which is not available. Available metrics are: loss,accuracy,val_loss,val_accuracy,lr\n",
      "591/591 [==============================] - 15s 25ms/step - loss: 0.0373 - accuracy: 0.9890 - val_loss: 0.0337 - val_accuracy: 0.9888 - lr: 0.0010\n",
      "Epoch 8/30\n",
      "590/591 [============================>.] - ETA: 0s - loss: 0.0359 - accuracy: 0.9894WARNING:tensorflow:Learning rate reduction is conditioned on metric `val_acc` which is not available. Available metrics are: loss,accuracy,val_loss,val_accuracy,lr\n",
      "591/591 [==============================] - 15s 25ms/step - loss: 0.0359 - accuracy: 0.9894 - val_loss: 0.0295 - val_accuracy: 0.9886 - lr: 0.0010\n",
      "Epoch 9/30\n",
      "589/591 [============================>.] - ETA: 0s - loss: 0.0328 - accuracy: 0.9908WARNING:tensorflow:Learning rate reduction is conditioned on metric `val_acc` which is not available. Available metrics are: loss,accuracy,val_loss,val_accuracy,lr\n",
      "591/591 [==============================] - 15s 25ms/step - loss: 0.0327 - accuracy: 0.9908 - val_loss: 0.0466 - val_accuracy: 0.9881 - lr: 0.0010\n",
      "Epoch 10/30\n",
      "589/591 [============================>.] - ETA: 0s - loss: 0.0335 - accuracy: 0.9905WARNING:tensorflow:Learning rate reduction is conditioned on metric `val_acc` which is not available. Available metrics are: loss,accuracy,val_loss,val_accuracy,lr\n",
      "591/591 [==============================] - 15s 26ms/step - loss: 0.0334 - accuracy: 0.9905 - val_loss: 0.0349 - val_accuracy: 0.9895 - lr: 0.0010\n",
      "Epoch 11/30\n",
      "591/591 [==============================] - ETA: 0s - loss: 0.0337 - accuracy: 0.9899WARNING:tensorflow:Learning rate reduction is conditioned on metric `val_acc` which is not available. Available metrics are: loss,accuracy,val_loss,val_accuracy,lr\n",
      "591/591 [==============================] - 15s 25ms/step - loss: 0.0337 - accuracy: 0.9899 - val_loss: 0.0347 - val_accuracy: 0.9890 - lr: 0.0010\n",
      "Epoch 12/30\n",
      "591/591 [==============================] - ETA: 0s - loss: 0.0339 - accuracy: 0.9911WARNING:tensorflow:Learning rate reduction is conditioned on metric `val_acc` which is not available. Available metrics are: loss,accuracy,val_loss,val_accuracy,lr\n",
      "591/591 [==============================] - 15s 25ms/step - loss: 0.0339 - accuracy: 0.9911 - val_loss: 0.0536 - val_accuracy: 0.9881 - lr: 0.0010\n",
      "Epoch 13/30\n",
      "591/591 [==============================] - ETA: 0s - loss: 0.0336 - accuracy: 0.9904WARNING:tensorflow:Learning rate reduction is conditioned on metric `val_acc` which is not available. Available metrics are: loss,accuracy,val_loss,val_accuracy,lr\n",
      "591/591 [==============================] - 15s 25ms/step - loss: 0.0336 - accuracy: 0.9904 - val_loss: 0.0634 - val_accuracy: 0.9890 - lr: 0.0010\n",
      "Epoch 14/30\n",
      "590/591 [============================>.] - ETA: 0s - loss: 0.0378 - accuracy: 0.9900WARNING:tensorflow:Learning rate reduction is conditioned on metric `val_acc` which is not available. Available metrics are: loss,accuracy,val_loss,val_accuracy,lr\n",
      "591/591 [==============================] - 15s 25ms/step - loss: 0.0377 - accuracy: 0.9900 - val_loss: 0.0303 - val_accuracy: 0.9905 - lr: 0.0010\n",
      "Epoch 15/30\n",
      "589/591 [============================>.] - ETA: 0s - loss: 0.0361 - accuracy: 0.9906WARNING:tensorflow:Learning rate reduction is conditioned on metric `val_acc` which is not available. Available metrics are: loss,accuracy,val_loss,val_accuracy,lr\n",
      "591/591 [==============================] - 15s 25ms/step - loss: 0.0361 - accuracy: 0.9906 - val_loss: 0.0422 - val_accuracy: 0.9874 - lr: 0.0010\n",
      "Epoch 16/30\n",
      "589/591 [============================>.] - ETA: 0s - loss: 0.0360 - accuracy: 0.9904WARNING:tensorflow:Learning rate reduction is conditioned on metric `val_acc` which is not available. Available metrics are: loss,accuracy,val_loss,val_accuracy,lr\n",
      "591/591 [==============================] - 15s 26ms/step - loss: 0.0359 - accuracy: 0.9904 - val_loss: 0.0665 - val_accuracy: 0.9867 - lr: 0.0010\n",
      "Epoch 17/30\n",
      "590/591 [============================>.] - ETA: 0s - loss: 0.0363 - accuracy: 0.9897WARNING:tensorflow:Learning rate reduction is conditioned on metric `val_acc` which is not available. Available metrics are: loss,accuracy,val_loss,val_accuracy,lr\n",
      "591/591 [==============================] - 15s 25ms/step - loss: 0.0363 - accuracy: 0.9897 - val_loss: 0.0365 - val_accuracy: 0.9890 - lr: 0.0010\n",
      "Epoch 18/30\n",
      "589/591 [============================>.] - ETA: 0s - loss: 0.0367 - accuracy: 0.9902WARNING:tensorflow:Learning rate reduction is conditioned on metric `val_acc` which is not available. Available metrics are: loss,accuracy,val_loss,val_accuracy,lr\n",
      "591/591 [==============================] - 15s 25ms/step - loss: 0.0366 - accuracy: 0.9903 - val_loss: 0.0407 - val_accuracy: 0.9907 - lr: 0.0010\n",
      "Epoch 19/30\n",
      "589/591 [============================>.] - ETA: 0s - loss: 0.0394 - accuracy: 0.9903WARNING:tensorflow:Learning rate reduction is conditioned on metric `val_acc` which is not available. Available metrics are: loss,accuracy,val_loss,val_accuracy,lr\n",
      "591/591 [==============================] - 15s 25ms/step - loss: 0.0393 - accuracy: 0.9903 - val_loss: 0.0363 - val_accuracy: 0.9895 - lr: 0.0010\n",
      "Epoch 20/30\n",
      "589/591 [============================>.] - ETA: 0s - loss: 0.0353 - accuracy: 0.9913WARNING:tensorflow:Learning rate reduction is conditioned on metric `val_acc` which is not available. Available metrics are: loss,accuracy,val_loss,val_accuracy,lr\n",
      "591/591 [==============================] - 15s 25ms/step - loss: 0.0354 - accuracy: 0.9913 - val_loss: 0.0353 - val_accuracy: 0.9895 - lr: 0.0010\n",
      "Epoch 21/30\n",
      "589/591 [============================>.] - ETA: 0s - loss: 0.0432 - accuracy: 0.9908WARNING:tensorflow:Learning rate reduction is conditioned on metric `val_acc` which is not available. Available metrics are: loss,accuracy,val_loss,val_accuracy,lr\n",
      "591/591 [==============================] - 15s 25ms/step - loss: 0.0431 - accuracy: 0.9908 - val_loss: 0.0404 - val_accuracy: 0.9888 - lr: 0.0010\n",
      "Epoch 22/30\n",
      "591/591 [==============================] - ETA: 0s - loss: 0.0407 - accuracy: 0.9902WARNING:tensorflow:Learning rate reduction is conditioned on metric `val_acc` which is not available. Available metrics are: loss,accuracy,val_loss,val_accuracy,lr\n",
      "591/591 [==============================] - 15s 25ms/step - loss: 0.0407 - accuracy: 0.9902 - val_loss: 0.0476 - val_accuracy: 0.9850 - lr: 0.0010\n",
      "Epoch 23/30\n",
      "591/591 [==============================] - ETA: 0s - loss: 0.0416 - accuracy: 0.9907WARNING:tensorflow:Learning rate reduction is conditioned on metric `val_acc` which is not available. Available metrics are: loss,accuracy,val_loss,val_accuracy,lr\n",
      "591/591 [==============================] - 15s 25ms/step - loss: 0.0416 - accuracy: 0.9907 - val_loss: 0.0358 - val_accuracy: 0.9900 - lr: 0.0010\n",
      "Epoch 24/30\n",
      "590/591 [============================>.] - ETA: 0s - loss: 0.0411 - accuracy: 0.9901WARNING:tensorflow:Learning rate reduction is conditioned on metric `val_acc` which is not available. Available metrics are: loss,accuracy,val_loss,val_accuracy,lr\n",
      "591/591 [==============================] - 15s 25ms/step - loss: 0.0410 - accuracy: 0.9901 - val_loss: 0.0444 - val_accuracy: 0.9860 - lr: 0.0010\n",
      "Epoch 25/30\n",
      "590/591 [============================>.] - ETA: 0s - loss: 0.0442 - accuracy: 0.9896WARNING:tensorflow:Learning rate reduction is conditioned on metric `val_acc` which is not available. Available metrics are: loss,accuracy,val_loss,val_accuracy,lr\n",
      "591/591 [==============================] - 15s 25ms/step - loss: 0.0442 - accuracy: 0.9897 - val_loss: 0.0407 - val_accuracy: 0.9900 - lr: 0.0010\n",
      "Epoch 26/30\n",
      "589/591 [============================>.] - ETA: 0s - loss: 0.0451 - accuracy: 0.9896WARNING:tensorflow:Learning rate reduction is conditioned on metric `val_acc` which is not available. Available metrics are: loss,accuracy,val_loss,val_accuracy,lr\n",
      "591/591 [==============================] - 15s 25ms/step - loss: 0.0451 - accuracy: 0.9896 - val_loss: 0.0585 - val_accuracy: 0.9850 - lr: 0.0010\n",
      "Epoch 27/30\n",
      "590/591 [============================>.] - ETA: 0s - loss: 0.0545 - accuracy: 0.9876WARNING:tensorflow:Learning rate reduction is conditioned on metric `val_acc` which is not available. Available metrics are: loss,accuracy,val_loss,val_accuracy,lr\n",
      "591/591 [==============================] - 15s 25ms/step - loss: 0.0544 - accuracy: 0.9876 - val_loss: 0.0483 - val_accuracy: 0.9881 - lr: 0.0010\n",
      "Epoch 28/30\n",
      "590/591 [============================>.] - ETA: 0s - loss: 0.0458 - accuracy: 0.9888WARNING:tensorflow:Learning rate reduction is conditioned on metric `val_acc` which is not available. Available metrics are: loss,accuracy,val_loss,val_accuracy,lr\n",
      "591/591 [==============================] - 15s 25ms/step - loss: 0.0458 - accuracy: 0.9888 - val_loss: 0.0675 - val_accuracy: 0.9845 - lr: 0.0010\n",
      "Epoch 29/30\n",
      "591/591 [==============================] - ETA: 0s - loss: 0.0475 - accuracy: 0.9890WARNING:tensorflow:Learning rate reduction is conditioned on metric `val_acc` which is not available. Available metrics are: loss,accuracy,val_loss,val_accuracy,lr\n",
      "591/591 [==============================] - 15s 25ms/step - loss: 0.0475 - accuracy: 0.9890 - val_loss: 0.0568 - val_accuracy: 0.9864 - lr: 0.0010\n",
      "Epoch 30/30\n",
      "590/591 [============================>.] - ETA: 0s - loss: 0.0474 - accuracy: 0.9891WARNING:tensorflow:Learning rate reduction is conditioned on metric `val_acc` which is not available. Available metrics are: loss,accuracy,val_loss,val_accuracy,lr\n",
      "591/591 [==============================] - 15s 25ms/step - loss: 0.0476 - accuracy: 0.9890 - val_loss: 0.0641 - val_accuracy: 0.9857 - lr: 0.0010\n"
     ]
    }
   ],
   "source": [
    "epochs=30\n",
    "batchsize=64\n",
    "history=model.fit(X_train,y_train,batch_size=batchsize,epochs=epochs,validation_data=(X_val,y_val),\n",
    "                 callbacks=[learning_rate_reduction])\n"
   ]
  },
  {
   "cell_type": "code",
   "execution_count": 20,
   "id": "52468ead",
   "metadata": {},
   "outputs": [],
   "source": [
    "from keras.models import clone_model"
   ]
  },
  {
   "cell_type": "code",
   "execution_count": 21,
   "id": "e7baa553",
   "metadata": {},
   "outputs": [],
   "source": [
    "model1=clone_model(model)\n",
    "model1.compile(optimizer=optimizer,loss='categorical_crossentropy',metrics='accuracy')"
   ]
  },
  {
   "cell_type": "code",
   "execution_count": 22,
   "id": "6757eac3",
   "metadata": {},
   "outputs": [],
   "source": [
    "datagen=ImageDataGenerator(\n",
    "featurewise_center=False,\n",
    "samplewise_center=False,\n",
    "featurewise_std_normalization=False,\n",
    "zca_whitening=False,\n",
    "rotation_range=10,\n",
    "zoom_range=0.1,\n",
    "width_shift_range=0.1,\n",
    "height_shift_range=0.1,\n",
    "horizontal_flip=False,\n",
    "vertical_flip=False)\n",
    "datagen.fit(X_train)"
   ]
  },
  {
   "cell_type": "code",
   "execution_count": 24,
   "id": "58c4c79a",
   "metadata": {},
   "outputs": [
    {
     "name": "stderr",
     "output_type": "stream",
     "text": [
      "2023-07-04 11:34:42.079164: I tensorflow/core/common_runtime/executor.cc:1197] [/device:CPU:0] (DEBUG INFO) Executor start aborting (this does not indicate an error and you can ignore this message): INVALID_ARGUMENT: You must feed a value for placeholder tensor 'Placeholder/_0' with dtype int32\n",
      "\t [[{{node Placeholder/_0}}]]\n"
     ]
    },
    {
     "name": "stdout",
     "output_type": "stream",
     "text": [
      "Epoch 1/30\n",
      "590/590 [==============================] - ETA: 0s - loss: 0.0667 - accuracy: 0.9804WARNING:tensorflow:Learning rate reduction is conditioned on metric `val_acc` which is not available. Available metrics are: loss,accuracy,val_loss,val_accuracy,lr\n",
      "590/590 [==============================] - 15s 25ms/step - loss: 0.0667 - accuracy: 0.9804 - val_loss: 0.0433 - val_accuracy: 0.9890 - lr: 0.0010\n",
      "Epoch 2/30\n",
      "590/590 [==============================] - ETA: 0s - loss: 0.0694 - accuracy: 0.9807WARNING:tensorflow:Learning rate reduction is conditioned on metric `val_acc` which is not available. Available metrics are: loss,accuracy,val_loss,val_accuracy,lr\n",
      "590/590 [==============================] - 15s 25ms/step - loss: 0.0694 - accuracy: 0.9807 - val_loss: 0.0349 - val_accuracy: 0.9907 - lr: 0.0010\n",
      "Epoch 3/30\n",
      "588/590 [============================>.] - ETA: 0s - loss: 0.0695 - accuracy: 0.9808WARNING:tensorflow:Learning rate reduction is conditioned on metric `val_acc` which is not available. Available metrics are: loss,accuracy,val_loss,val_accuracy,lr\n",
      "590/590 [==============================] - 15s 25ms/step - loss: 0.0694 - accuracy: 0.9808 - val_loss: 0.0359 - val_accuracy: 0.9907 - lr: 0.0010\n",
      "Epoch 4/30\n",
      "588/590 [============================>.] - ETA: 0s - loss: 0.0670 - accuracy: 0.9822WARNING:tensorflow:Learning rate reduction is conditioned on metric `val_acc` which is not available. Available metrics are: loss,accuracy,val_loss,val_accuracy,lr\n",
      "590/590 [==============================] - 15s 25ms/step - loss: 0.0669 - accuracy: 0.9822 - val_loss: 0.0284 - val_accuracy: 0.9931 - lr: 0.0010\n",
      "Epoch 5/30\n",
      "589/590 [============================>.] - ETA: 0s - loss: 0.0718 - accuracy: 0.9814WARNING:tensorflow:Learning rate reduction is conditioned on metric `val_acc` which is not available. Available metrics are: loss,accuracy,val_loss,val_accuracy,lr\n",
      "590/590 [==============================] - 15s 25ms/step - loss: 0.0717 - accuracy: 0.9814 - val_loss: 0.0401 - val_accuracy: 0.9914 - lr: 0.0010\n",
      "Epoch 6/30\n",
      "590/590 [==============================] - ETA: 0s - loss: 0.0726 - accuracy: 0.9808WARNING:tensorflow:Learning rate reduction is conditioned on metric `val_acc` which is not available. Available metrics are: loss,accuracy,val_loss,val_accuracy,lr\n",
      "590/590 [==============================] - 15s 25ms/step - loss: 0.0726 - accuracy: 0.9808 - val_loss: 0.0329 - val_accuracy: 0.9919 - lr: 0.0010\n",
      "Epoch 7/30\n",
      "588/590 [============================>.] - ETA: 0s - loss: 0.0721 - accuracy: 0.9810WARNING:tensorflow:Learning rate reduction is conditioned on metric `val_acc` which is not available. Available metrics are: loss,accuracy,val_loss,val_accuracy,lr\n",
      "590/590 [==============================] - 15s 25ms/step - loss: 0.0719 - accuracy: 0.9811 - val_loss: 0.0372 - val_accuracy: 0.9907 - lr: 0.0010\n",
      "Epoch 8/30\n",
      "589/590 [============================>.] - ETA: 0s - loss: 0.0759 - accuracy: 0.9813WARNING:tensorflow:Learning rate reduction is conditioned on metric `val_acc` which is not available. Available metrics are: loss,accuracy,val_loss,val_accuracy,lr\n",
      "590/590 [==============================] - 15s 26ms/step - loss: 0.0759 - accuracy: 0.9812 - val_loss: 0.0512 - val_accuracy: 0.9879 - lr: 0.0010\n",
      "Epoch 9/30\n",
      "590/590 [==============================] - ETA: 0s - loss: 0.0768 - accuracy: 0.9795WARNING:tensorflow:Learning rate reduction is conditioned on metric `val_acc` which is not available. Available metrics are: loss,accuracy,val_loss,val_accuracy,lr\n",
      "590/590 [==============================] - 15s 26ms/step - loss: 0.0768 - accuracy: 0.9795 - val_loss: 0.0387 - val_accuracy: 0.9914 - lr: 0.0010\n",
      "Epoch 10/30\n",
      "589/590 [============================>.] - ETA: 0s - loss: 0.0802 - accuracy: 0.9799WARNING:tensorflow:Learning rate reduction is conditioned on metric `val_acc` which is not available. Available metrics are: loss,accuracy,val_loss,val_accuracy,lr\n",
      "590/590 [==============================] - 15s 26ms/step - loss: 0.0803 - accuracy: 0.9799 - val_loss: 0.0680 - val_accuracy: 0.9881 - lr: 0.0010\n",
      "Epoch 11/30\n",
      "590/590 [==============================] - ETA: 0s - loss: 0.0815 - accuracy: 0.9787WARNING:tensorflow:Learning rate reduction is conditioned on metric `val_acc` which is not available. Available metrics are: loss,accuracy,val_loss,val_accuracy,lr\n",
      "590/590 [==============================] - 15s 26ms/step - loss: 0.0815 - accuracy: 0.9787 - val_loss: 0.0359 - val_accuracy: 0.9905 - lr: 0.0010\n",
      "Epoch 12/30\n",
      "589/590 [============================>.] - ETA: 0s - loss: 0.0805 - accuracy: 0.9800WARNING:tensorflow:Learning rate reduction is conditioned on metric `val_acc` which is not available. Available metrics are: loss,accuracy,val_loss,val_accuracy,lr\n",
      "590/590 [==============================] - 15s 26ms/step - loss: 0.0805 - accuracy: 0.9800 - val_loss: 0.0490 - val_accuracy: 0.9895 - lr: 0.0010\n",
      "Epoch 13/30\n",
      "589/590 [============================>.] - ETA: 0s - loss: 0.0900 - accuracy: 0.9777WARNING:tensorflow:Learning rate reduction is conditioned on metric `val_acc` which is not available. Available metrics are: loss,accuracy,val_loss,val_accuracy,lr\n",
      "590/590 [==============================] - 15s 26ms/step - loss: 0.0899 - accuracy: 0.9777 - val_loss: 0.0388 - val_accuracy: 0.9914 - lr: 0.0010\n",
      "Epoch 14/30\n",
      "590/590 [==============================] - ETA: 0s - loss: 0.0851 - accuracy: 0.9790WARNING:tensorflow:Learning rate reduction is conditioned on metric `val_acc` which is not available. Available metrics are: loss,accuracy,val_loss,val_accuracy,lr\n",
      "590/590 [==============================] - 16s 26ms/step - loss: 0.0851 - accuracy: 0.9790 - val_loss: 0.0388 - val_accuracy: 0.9905 - lr: 0.0010\n",
      "Epoch 15/30\n",
      "589/590 [============================>.] - ETA: 0s - loss: 0.0920 - accuracy: 0.9778WARNING:tensorflow:Learning rate reduction is conditioned on metric `val_acc` which is not available. Available metrics are: loss,accuracy,val_loss,val_accuracy,lr\n",
      "590/590 [==============================] - 16s 27ms/step - loss: 0.0919 - accuracy: 0.9778 - val_loss: 0.0411 - val_accuracy: 0.9907 - lr: 0.0010\n",
      "Epoch 16/30\n",
      "589/590 [============================>.] - ETA: 0s - loss: 0.0878 - accuracy: 0.9783WARNING:tensorflow:Learning rate reduction is conditioned on metric `val_acc` which is not available. Available metrics are: loss,accuracy,val_loss,val_accuracy,lr\n",
      "590/590 [==============================] - 15s 26ms/step - loss: 0.0879 - accuracy: 0.9783 - val_loss: 0.0502 - val_accuracy: 0.9895 - lr: 0.0010\n",
      "Epoch 17/30\n",
      "589/590 [============================>.] - ETA: 0s - loss: 0.0909 - accuracy: 0.9785WARNING:tensorflow:Learning rate reduction is conditioned on metric `val_acc` which is not available. Available metrics are: loss,accuracy,val_loss,val_accuracy,lr\n",
      "590/590 [==============================] - 15s 26ms/step - loss: 0.0907 - accuracy: 0.9786 - val_loss: 0.0559 - val_accuracy: 0.9869 - lr: 0.0010\n",
      "Epoch 18/30\n",
      "589/590 [============================>.] - ETA: 0s - loss: 0.0856 - accuracy: 0.9784WARNING:tensorflow:Learning rate reduction is conditioned on metric `val_acc` which is not available. Available metrics are: loss,accuracy,val_loss,val_accuracy,lr\n",
      "590/590 [==============================] - 15s 26ms/step - loss: 0.0856 - accuracy: 0.9783 - val_loss: 0.0684 - val_accuracy: 0.9871 - lr: 0.0010\n",
      "Epoch 19/30\n",
      "589/590 [============================>.] - ETA: 0s - loss: 0.0959 - accuracy: 0.9784WARNING:tensorflow:Learning rate reduction is conditioned on metric `val_acc` which is not available. Available metrics are: loss,accuracy,val_loss,val_accuracy,lr\n",
      "590/590 [==============================] - 15s 25ms/step - loss: 0.0958 - accuracy: 0.9784 - val_loss: 0.0549 - val_accuracy: 0.9902 - lr: 0.0010\n",
      "Epoch 20/30\n",
      "589/590 [============================>.] - ETA: 0s - loss: 0.0984 - accuracy: 0.9767WARNING:tensorflow:Learning rate reduction is conditioned on metric `val_acc` which is not available. Available metrics are: loss,accuracy,val_loss,val_accuracy,lr\n",
      "590/590 [==============================] - 15s 26ms/step - loss: 0.0982 - accuracy: 0.9767 - val_loss: 0.1023 - val_accuracy: 0.9867 - lr: 0.0010\n",
      "Epoch 21/30\n",
      "589/590 [============================>.] - ETA: 0s - loss: 0.0939 - accuracy: 0.9768WARNING:tensorflow:Learning rate reduction is conditioned on metric `val_acc` which is not available. Available metrics are: loss,accuracy,val_loss,val_accuracy,lr\n",
      "590/590 [==============================] - 15s 26ms/step - loss: 0.0938 - accuracy: 0.9768 - val_loss: 0.0479 - val_accuracy: 0.9902 - lr: 0.0010\n",
      "Epoch 22/30\n",
      "589/590 [============================>.] - ETA: 0s - loss: 0.0989 - accuracy: 0.9764WARNING:tensorflow:Learning rate reduction is conditioned on metric `val_acc` which is not available. Available metrics are: loss,accuracy,val_loss,val_accuracy,lr\n",
      "590/590 [==============================] - 15s 25ms/step - loss: 0.0992 - accuracy: 0.9764 - val_loss: 0.0587 - val_accuracy: 0.9864 - lr: 0.0010\n",
      "Epoch 23/30\n",
      "588/590 [============================>.] - ETA: 0s - loss: 0.1006 - accuracy: 0.9764WARNING:tensorflow:Learning rate reduction is conditioned on metric `val_acc` which is not available. Available metrics are: loss,accuracy,val_loss,val_accuracy,lr\n",
      "590/590 [==============================] - 15s 25ms/step - loss: 0.1003 - accuracy: 0.9765 - val_loss: 0.0872 - val_accuracy: 0.9890 - lr: 0.0010\n",
      "Epoch 24/30\n",
      "589/590 [============================>.] - ETA: 0s - loss: 0.1003 - accuracy: 0.9762WARNING:tensorflow:Learning rate reduction is conditioned on metric `val_acc` which is not available. Available metrics are: loss,accuracy,val_loss,val_accuracy,lr\n",
      "590/590 [==============================] - 15s 25ms/step - loss: 0.1002 - accuracy: 0.9763 - val_loss: 0.0924 - val_accuracy: 0.9895 - lr: 0.0010\n",
      "Epoch 25/30\n",
      "589/590 [============================>.] - ETA: 0s - loss: 0.1024 - accuracy: 0.9765WARNING:tensorflow:Learning rate reduction is conditioned on metric `val_acc` which is not available. Available metrics are: loss,accuracy,val_loss,val_accuracy,lr\n",
      "590/590 [==============================] - 15s 25ms/step - loss: 0.1024 - accuracy: 0.9765 - val_loss: 0.0623 - val_accuracy: 0.9876 - lr: 0.0010\n",
      "Epoch 26/30\n",
      "589/590 [============================>.] - ETA: 0s - loss: 0.1089 - accuracy: 0.9751WARNING:tensorflow:Learning rate reduction is conditioned on metric `val_acc` which is not available. Available metrics are: loss,accuracy,val_loss,val_accuracy,lr\n",
      "590/590 [==============================] - 15s 25ms/step - loss: 0.1087 - accuracy: 0.9752 - val_loss: 0.0618 - val_accuracy: 0.9895 - lr: 0.0010\n",
      "Epoch 27/30\n",
      "590/590 [==============================] - ETA: 0s - loss: 0.1185 - accuracy: 0.9736WARNING:tensorflow:Learning rate reduction is conditioned on metric `val_acc` which is not available. Available metrics are: loss,accuracy,val_loss,val_accuracy,lr\n",
      "590/590 [==============================] - 15s 25ms/step - loss: 0.1185 - accuracy: 0.9736 - val_loss: 0.0728 - val_accuracy: 0.9898 - lr: 0.0010\n",
      "Epoch 28/30\n",
      "589/590 [============================>.] - ETA: 0s - loss: 0.1169 - accuracy: 0.9749WARNING:tensorflow:Learning rate reduction is conditioned on metric `val_acc` which is not available. Available metrics are: loss,accuracy,val_loss,val_accuracy,lr\n",
      "590/590 [==============================] - 15s 25ms/step - loss: 0.1167 - accuracy: 0.9750 - val_loss: 0.4008 - val_accuracy: 0.9821 - lr: 0.0010\n",
      "Epoch 29/30\n",
      "589/590 [============================>.] - ETA: 0s - loss: 0.1164 - accuracy: 0.9753WARNING:tensorflow:Learning rate reduction is conditioned on metric `val_acc` which is not available. Available metrics are: loss,accuracy,val_loss,val_accuracy,lr\n",
      "590/590 [==============================] - 15s 26ms/step - loss: 0.1163 - accuracy: 0.9753 - val_loss: 0.0603 - val_accuracy: 0.9895 - lr: 0.0010\n",
      "Epoch 30/30\n",
      "590/590 [==============================] - ETA: 0s - loss: 0.1148 - accuracy: 0.9730WARNING:tensorflow:Learning rate reduction is conditioned on metric `val_acc` which is not available. Available metrics are: loss,accuracy,val_loss,val_accuracy,lr\n",
      "590/590 [==============================] - 15s 26ms/step - loss: 0.1148 - accuracy: 0.9730 - val_loss: 0.1298 - val_accuracy: 0.9819 - lr: 0.0010\n"
     ]
    }
   ],
   "source": [
    "history_1=model1.fit(datagen.flow(X_train,y_train,batch_size=batchsize),epochs=epochs,\n",
    "                             validation_data=(X_val,y_val),\n",
    "                             callbacks=[learning_rate_reduction],steps_per_epoch=X_train.shape[0]//batchsize)"
   ]
  },
  {
   "cell_type": "code",
   "execution_count": 25,
   "id": "7555db2e",
   "metadata": {},
   "outputs": [
    {
     "data": {
      "image/png": "[encoded data removed]",
      "text/plain": [
       "<Figure size 432x288 with 2 Axes>"
      ]
     },
     "metadata": {},
     "output_type": "display_data"
    }
   ],
   "source": [
    "fig,ax=plt.subplots(2,1)\n",
    "ax[0].plot(history.history['loss'],color='r',label='Training loss')\n",
    "ax[0].plot(history.history['val_loss'],color='b',label='Validation loss')\n",
    "legend=ax[0].legend(loc='best',shadow=True)\n",
    "\n",
    "ax[1].plot(history.history['accuracy'],color='r',label='Training accuracy')\n",
    "ax[1].plot(history.history['val_accuracy'],color='b',label='Validation accuracy')\n",
    "legend=ax[1].legend(loc='best',shadow=True)\n"
   ]
  },
  {
   "cell_type": "code",
   "execution_count": 26,
   "id": "55388286",
   "metadata": {},
   "outputs": [
    {
     "data": {
      "image/png": "[encoded data removed]",
      "text/plain": [
       "<Figure size 432x288 with 2 Axes>"
      ]
     },
     "metadata": {},
     "output_type": "display_data"
    }
   ],
   "source": [
    "fig,ax=plt.subplots(2,1)\n",
    "ax[0].plot(history_1.history['loss'],color='r',label='Training loss')\n",
    "ax[0].plot(history_1.history['val_loss'],color='b',label='Validation loss')\n",
    "legend=ax[0].legend(loc='best',shadow=True)\n",
    "\n",
    "ax[1].plot(history_1.history['accuracy'],color='r',label='Training accuracy')\n",
    "ax[1].plot(history_1.history['val_accuracy'],color='b',label='Validation accuracy')\n",
    "legend=ax[1].legend(loc='best',shadow=True)\n"
   ]
  },
  {
   "cell_type": "code",
   "execution_count": 27,
   "id": "1247202d",
   "metadata": {},
   "outputs": [
    {
     "name": "stdout",
     "output_type": "stream",
     "text": [
      "132/132 [==============================] - 1s 5ms/step\n"
     ]
    }
   ],
   "source": [
    "ans=np.argmax(model.predict(X_val),axis=1)"
   ]
  },
  {
   "cell_type": "code",
   "execution_count": 28,
   "id": "5924c833",
   "metadata": {},
   "outputs": [],
   "source": [
    "ans.shape\n",
    "real_ans=np.argmax(y_val,axis=1)"
   ]
  },
  {
   "cell_type": "code",
   "execution_count": 29,
   "id": "1422f64e",
   "metadata": {},
   "outputs": [
    {
     "data": {
      "image/png": "[encoded data removed]",
      "text/plain": [
       "<Figure size 576x576 with 2 Axes>"
      ]
     },
     "metadata": {},
     "output_type": "display_data"
    }
   ],
   "source": [
    "plt.figure(figsize=(8,8))\n",
    "sns.heatmap(confusion_matrix(ans,real_ans),annot=True,cmap='viridis',linewidth=0.5,fmt='d')\n",
    "plt.show()"
   ]
  },
  {
   "cell_type": "code",
   "execution_count": 30,
   "id": "d904ae81",
   "metadata": {},
   "outputs": [
    {
     "name": "stdout",
     "output_type": "stream",
     "text": [
      "875/875 [==============================] - 4s 5ms/step\n"
     ]
    }
   ],
   "source": [
    "result=np.argmax(model.predict(test),axis=1)\n",
    "\n",
    "submission=pd.DataFrame({\n",
    "    'ImageId':range(1,28001),\n",
    "    'Label':result\n",
    "})"
   ]
  },
  {
   "cell_type": "code",
   "execution_count": 32,
   "id": "7320bf1c",
   "metadata": {},
   "outputs": [],
   "source": [
    "submission.to_csv('submission.csv',index=None)"
   ]
  },
  {
   "cell_type": "code",
   "execution_count": 33,
   "id": "447a3699",
   "metadata": {},
   "outputs": [
    {
     "name": "stdout",
     "output_type": "stream",
     "text": [
      "875/875 [==============================] - 5s 5ms/step\n"
     ]
    }
   ],
   "source": [
    "result=np.argmax(model1.predict(test),axis=1)\n",
    "\n",
    "submission=pd.DataFrame({\n",
    "    'ImageId':range(1,28001),\n",
    "    'Label':result\n",
    "})"
   ]
  },
  {
   "cell_type": "code",
   "execution_count": 34,
   "id": "d6701315",
   "metadata": {},
   "outputs": [],
   "source": [
    "submission.to_csv('submission.csv',index=None)"
   ]
  },
  {
   "cell_type": "code",
   "execution_count": 42,
   "id": "10a44fa9",
   "metadata": {},
   "outputs": [],
   "source": [
    "from keras.layers import BatchNormalization"
   ]
  },
  {
   "cell_type": "code",
   "execution_count": 43,
   "id": "dec96db5",
   "metadata": {},
   "outputs": [],
   "source": [
    "model2=Sequential()\n",
    "model2.add(Conv2D(filters=32,kernel_size=(5,5),padding='same',activation='relu',input_shape=(28,28,1)))\n",
    "model2.add(BatchNormalization(axis=1))\n",
    "model2.add(Conv2D(filters=32,kernel_size=(5,5),padding='same',activation='relu'))\n",
    "model2.add(MaxPool2D(pool_size=(2,2)))\n",
    "model2.add(BatchNormalization(axis=1))\n",
    "\n",
    "model2.add(Conv2D(filters=64,kernel_size=(3,3),padding='same',activation='relu',))\n",
    "model2.add(BatchNormalization(axis=1))\n",
    "model2.add(Conv2D(filters=64,kernel_size=(3,3),padding='same',activation='relu',))\n",
    "model2.add(MaxPool2D(pool_size=(2,2),strides=(2,2)))\n",
    "model2.add(BatchNormalization(axis=1))\n",
    "\n",
    "model2.add(Flatten())\n",
    "model2.add(Dense(512,activation='relu'))\n",
    "model2.add(BatchNormalization())\n",
    "model2.add(Dense(10,activation='softmax'))"
   ]
  },
  {
   "cell_type": "code",
   "execution_count": 44,
   "id": "edc4002c",
   "metadata": {},
   "outputs": [
    {
     "name": "stdout",
     "output_type": "stream",
     "text": [
      "Epoch 1/30\n",
      "589/591 [============================>.] - ETA: 0s - loss: 0.1243 - accuracy: 0.9630WARNING:tensorflow:Learning rate reduction is conditioned on metric `val_acc` which is not available. Available metrics are: loss,accuracy,val_loss,val_accuracy,lr\n",
      "591/591 [==============================] - 18s 29ms/step - loss: 0.1241 - accuracy: 0.9630 - val_loss: 0.0884 - val_accuracy: 0.9738 - lr: 0.0010\n",
      "Epoch 2/30\n",
      "589/591 [============================>.] - ETA: 0s - loss: 0.0424 - accuracy: 0.9871WARNING:tensorflow:Learning rate reduction is conditioned on metric `val_acc` which is not available. Available metrics are: loss,accuracy,val_loss,val_accuracy,lr\n",
      "591/591 [==============================] - 17s 29ms/step - loss: 0.0424 - accuracy: 0.9870 - val_loss: 0.0820 - val_accuracy: 0.9745 - lr: 0.0010\n",
      "Epoch 3/30\n",
      "589/591 [============================>.] - ETA: 0s - loss: 0.0292 - accuracy: 0.9908WARNING:tensorflow:Learning rate reduction is conditioned on metric `val_acc` which is not available. Available metrics are: loss,accuracy,val_loss,val_accuracy,lr\n",
      "591/591 [==============================] - 17s 29ms/step - loss: 0.0292 - accuracy: 0.9908 - val_loss: 0.0638 - val_accuracy: 0.9845 - lr: 0.0010\n",
      "Epoch 4/30\n",
      "589/591 [============================>.] - ETA: 0s - loss: 0.0202 - accuracy: 0.9937WARNING:tensorflow:Learning rate reduction is conditioned on metric `val_acc` which is not available. Available metrics are: loss,accuracy,val_loss,val_accuracy,lr\n",
      "591/591 [==============================] - 17s 29ms/step - loss: 0.0201 - accuracy: 0.9937 - val_loss: 0.0331 - val_accuracy: 0.9917 - lr: 0.0010\n",
      "Epoch 5/30\n",
      "589/591 [============================>.] - ETA: 0s - loss: 0.0154 - accuracy: 0.9953WARNING:tensorflow:Learning rate reduction is conditioned on metric `val_acc` which is not available. Available metrics are: loss,accuracy,val_loss,val_accuracy,lr\n",
      "591/591 [==============================] - 17s 29ms/step - loss: 0.0154 - accuracy: 0.9953 - val_loss: 0.0423 - val_accuracy: 0.9898 - lr: 0.0010\n",
      "Epoch 6/30\n",
      "591/591 [==============================] - ETA: 0s - loss: 0.0124 - accuracy: 0.9961WARNING:tensorflow:Learning rate reduction is conditioned on metric `val_acc` which is not available. Available metrics are: loss,accuracy,val_loss,val_accuracy,lr\n",
      "591/591 [==============================] - 17s 29ms/step - loss: 0.0124 - accuracy: 0.9961 - val_loss: 0.0402 - val_accuracy: 0.9917 - lr: 0.0010\n",
      "Epoch 7/30\n",
      "589/591 [============================>.] - ETA: 0s - loss: 0.0089 - accuracy: 0.9973WARNING:tensorflow:Learning rate reduction is conditioned on metric `val_acc` which is not available. Available metrics are: loss,accuracy,val_loss,val_accuracy,lr\n",
      "591/591 [==============================] - 17s 29ms/step - loss: 0.0089 - accuracy: 0.9973 - val_loss: 0.0339 - val_accuracy: 0.9919 - lr: 0.0010\n",
      "Epoch 8/30\n",
      "589/591 [============================>.] - ETA: 0s - loss: 0.0081 - accuracy: 0.9973WARNING:tensorflow:Learning rate reduction is conditioned on metric `val_acc` which is not available. Available metrics are: loss,accuracy,val_loss,val_accuracy,lr\n",
      "591/591 [==============================] - 17s 29ms/step - loss: 0.0082 - accuracy: 0.9973 - val_loss: 0.0415 - val_accuracy: 0.9876 - lr: 0.0010\n",
      "Epoch 9/30\n",
      "589/591 [============================>.] - ETA: 0s - loss: 0.0064 - accuracy: 0.9981WARNING:tensorflow:Learning rate reduction is conditioned on metric `val_acc` which is not available. Available metrics are: loss,accuracy,val_loss,val_accuracy,lr\n",
      "591/591 [==============================] - 17s 29ms/step - loss: 0.0064 - accuracy: 0.9981 - val_loss: 0.0465 - val_accuracy: 0.9900 - lr: 0.0010\n",
      "Epoch 10/30\n",
      "589/591 [============================>.] - ETA: 0s - loss: 0.0046 - accuracy: 0.9985WARNING:tensorflow:Learning rate reduction is conditioned on metric `val_acc` which is not available. Available metrics are: loss,accuracy,val_loss,val_accuracy,lr\n",
      "591/591 [==============================] - 17s 29ms/step - loss: 0.0046 - accuracy: 0.9985 - val_loss: 0.0344 - val_accuracy: 0.9919 - lr: 0.0010\n",
      "Epoch 11/30\n",
      "589/591 [============================>.] - ETA: 0s - loss: 0.0041 - accuracy: 0.9987WARNING:tensorflow:Learning rate reduction is conditioned on metric `val_acc` which is not available. Available metrics are: loss,accuracy,val_loss,val_accuracy,lr\n",
      "591/591 [==============================] - 17s 29ms/step - loss: 0.0041 - accuracy: 0.9987 - val_loss: 0.0343 - val_accuracy: 0.9921 - lr: 0.0010\n",
      "Epoch 12/30\n",
      "589/591 [============================>.] - ETA: 0s - loss: 0.0039 - accuracy: 0.9986WARNING:tensorflow:Learning rate reduction is conditioned on metric `val_acc` which is not available. Available metrics are: loss,accuracy,val_loss,val_accuracy,lr\n",
      "591/591 [==============================] - 17s 29ms/step - loss: 0.0039 - accuracy: 0.9986 - val_loss: 0.0520 - val_accuracy: 0.9890 - lr: 0.0010\n",
      "Epoch 13/30\n",
      "589/591 [============================>.] - ETA: 0s - loss: 0.0036 - accuracy: 0.9989WARNING:tensorflow:Learning rate reduction is conditioned on metric `val_acc` which is not available. Available metrics are: loss,accuracy,val_loss,val_accuracy,lr\n",
      "591/591 [==============================] - 17s 29ms/step - loss: 0.0036 - accuracy: 0.9989 - val_loss: 0.0407 - val_accuracy: 0.9907 - lr: 0.0010\n",
      "Epoch 14/30\n",
      "589/591 [============================>.] - ETA: 0s - loss: 0.0026 - accuracy: 0.9991WARNING:tensorflow:Learning rate reduction is conditioned on metric `val_acc` which is not available. Available metrics are: loss,accuracy,val_loss,val_accuracy,lr\n",
      "591/591 [==============================] - 17s 29ms/step - loss: 0.0026 - accuracy: 0.9991 - val_loss: 0.0408 - val_accuracy: 0.9924 - lr: 0.0010\n",
      "Epoch 15/30\n",
      "589/591 [============================>.] - ETA: 0s - loss: 0.0023 - accuracy: 0.9993WARNING:tensorflow:Learning rate reduction is conditioned on metric `val_acc` which is not available. Available metrics are: loss,accuracy,val_loss,val_accuracy,lr\n",
      "591/591 [==============================] - 17s 29ms/step - loss: 0.0023 - accuracy: 0.9993 - val_loss: 0.0442 - val_accuracy: 0.9917 - lr: 0.0010\n",
      "Epoch 16/30\n",
      "589/591 [============================>.] - ETA: 0s - loss: 0.0030 - accuracy: 0.9991WARNING:tensorflow:Learning rate reduction is conditioned on metric `val_acc` which is not available. Available metrics are: loss,accuracy,val_loss,val_accuracy,lr\n",
      "591/591 [==============================] - 17s 29ms/step - loss: 0.0030 - accuracy: 0.9991 - val_loss: 0.0415 - val_accuracy: 0.9921 - lr: 0.0010\n",
      "Epoch 17/30\n",
      "589/591 [============================>.] - ETA: 0s - loss: 0.0025 - accuracy: 0.9993WARNING:tensorflow:Learning rate reduction is conditioned on metric `val_acc` which is not available. Available metrics are: loss,accuracy,val_loss,val_accuracy,lr\n",
      "591/591 [==============================] - 17s 29ms/step - loss: 0.0025 - accuracy: 0.9993 - val_loss: 0.0481 - val_accuracy: 0.9912 - lr: 0.0010\n",
      "Epoch 18/30\n",
      "589/591 [============================>.] - ETA: 0s - loss: 0.0013 - accuracy: 0.9995WARNING:tensorflow:Learning rate reduction is conditioned on metric `val_acc` which is not available. Available metrics are: loss,accuracy,val_loss,val_accuracy,lr\n",
      "591/591 [==============================] - 17s 29ms/step - loss: 0.0013 - accuracy: 0.9995 - val_loss: 0.0562 - val_accuracy: 0.9917 - lr: 0.0010\n",
      "Epoch 19/30\n",
      "589/591 [============================>.] - ETA: 0s - loss: 0.0016 - accuracy: 0.9995WARNING:tensorflow:Learning rate reduction is conditioned on metric `val_acc` which is not available. Available metrics are: loss,accuracy,val_loss,val_accuracy,lr\n",
      "591/591 [==============================] - 17s 29ms/step - loss: 0.0016 - accuracy: 0.9995 - val_loss: 0.0623 - val_accuracy: 0.9895 - lr: 0.0010\n",
      "Epoch 20/30\n",
      "589/591 [============================>.] - ETA: 0s - loss: 0.0019 - accuracy: 0.9994WARNING:tensorflow:Learning rate reduction is conditioned on metric `val_acc` which is not available. Available metrics are: loss,accuracy,val_loss,val_accuracy,lr\n",
      "591/591 [==============================] - 17s 29ms/step - loss: 0.0018 - accuracy: 0.9994 - val_loss: 0.0432 - val_accuracy: 0.9919 - lr: 0.0010\n",
      "Epoch 21/30\n",
      "589/591 [============================>.] - ETA: 0s - loss: 0.0011 - accuracy: 0.9997WARNING:tensorflow:Learning rate reduction is conditioned on metric `val_acc` which is not available. Available metrics are: loss,accuracy,val_loss,val_accuracy,lr\n",
      "591/591 [==============================] - 17s 29ms/step - loss: 0.0011 - accuracy: 0.9997 - val_loss: 0.0581 - val_accuracy: 0.9910 - lr: 0.0010\n",
      "Epoch 22/30\n",
      "589/591 [============================>.] - ETA: 0s - loss: 0.0017 - accuracy: 0.9994WARNING:tensorflow:Learning rate reduction is conditioned on metric `val_acc` which is not available. Available metrics are: loss,accuracy,val_loss,val_accuracy,lr\n",
      "591/591 [==============================] - 18s 30ms/step - loss: 0.0018 - accuracy: 0.9993 - val_loss: 0.0458 - val_accuracy: 0.9926 - lr: 0.0010\n",
      "Epoch 23/30\n",
      "591/591 [==============================] - ETA: 0s - loss: 7.9701e-04 - accuracy: 0.9997WARNING:tensorflow:Learning rate reduction is conditioned on metric `val_acc` which is not available. Available metrics are: loss,accuracy,val_loss,val_accuracy,lr\n",
      "591/591 [==============================] - 19s 32ms/step - loss: 7.9701e-04 - accuracy: 0.9997 - val_loss: 0.0507 - val_accuracy: 0.9917 - lr: 0.0010\n",
      "Epoch 24/30\n",
      "591/591 [==============================] - ETA: 0s - loss: 3.4530e-04 - accuracy: 0.9999WARNING:tensorflow:Learning rate reduction is conditioned on metric `val_acc` which is not available. Available metrics are: loss,accuracy,val_loss,val_accuracy,lr\n",
      "591/591 [==============================] - 18s 31ms/step - loss: 3.4530e-04 - accuracy: 0.9999 - val_loss: 0.0708 - val_accuracy: 0.9900 - lr: 0.0010\n",
      "Epoch 25/30\n",
      "589/591 [============================>.] - ETA: 0s - loss: 8.6177e-04 - accuracy: 0.9997WARNING:tensorflow:Learning rate reduction is conditioned on metric `val_acc` which is not available. Available metrics are: loss,accuracy,val_loss,val_accuracy,lr\n",
      "591/591 [==============================] - 19s 32ms/step - loss: 8.5940e-04 - accuracy: 0.9997 - val_loss: 0.0761 - val_accuracy: 0.9924 - lr: 0.0010\n",
      "Epoch 26/30\n",
      "589/591 [============================>.] - ETA: 0s - loss: 4.4733e-04 - accuracy: 0.9998WARNING:tensorflow:Learning rate reduction is conditioned on metric `val_acc` which is not available. Available metrics are: loss,accuracy,val_loss,val_accuracy,lr\n",
      "591/591 [==============================] - 18s 31ms/step - loss: 4.4660e-04 - accuracy: 0.9998 - val_loss: 0.0649 - val_accuracy: 0.9912 - lr: 0.0010\n",
      "Epoch 27/30\n",
      "591/591 [==============================] - ETA: 0s - loss: 0.0014 - accuracy: 0.9997WARNING:tensorflow:Learning rate reduction is conditioned on metric `val_acc` which is not available. Available metrics are: loss,accuracy,val_loss,val_accuracy,lr\n",
      "591/591 [==============================] - 18s 31ms/step - loss: 0.0014 - accuracy: 0.9997 - val_loss: 0.0574 - val_accuracy: 0.9919 - lr: 0.0010\n",
      "Epoch 28/30\n",
      "589/591 [============================>.] - ETA: 0s - loss: 8.9364e-04 - accuracy: 0.9998WARNING:tensorflow:Learning rate reduction is conditioned on metric `val_acc` which is not available. Available metrics are: loss,accuracy,val_loss,val_accuracy,lr\n",
      "591/591 [==============================] - 18s 31ms/step - loss: 8.9126e-04 - accuracy: 0.9998 - val_loss: 0.0569 - val_accuracy: 0.9919 - lr: 0.0010\n",
      "Epoch 29/30\n",
      "591/591 [==============================] - ETA: 0s - loss: 0.0012 - accuracy: 0.9998WARNING:tensorflow:Learning rate reduction is conditioned on metric `val_acc` which is not available. Available metrics are: loss,accuracy,val_loss,val_accuracy,lr\n",
      "591/591 [==============================] - 19s 31ms/step - loss: 0.0012 - accuracy: 0.9998 - val_loss: 0.0514 - val_accuracy: 0.9931 - lr: 0.0010\n",
      "Epoch 30/30\n",
      "591/591 [==============================] - ETA: 0s - loss: 5.6580e-04 - accuracy: 0.9998WARNING:tensorflow:Learning rate reduction is conditioned on metric `val_acc` which is not available. Available metrics are: loss,accuracy,val_loss,val_accuracy,lr\n",
      "591/591 [==============================] - 19s 32ms/step - loss: 5.6580e-04 - accuracy: 0.9998 - val_loss: 0.0616 - val_accuracy: 0.9912 - lr: 0.0010\n"
     ]
    }
   ],
   "source": [
    "model2.compile(optimizer=optimizer,loss='categorical_crossentropy',metrics='accuracy')\n",
    "history_2=model2.fit(X_train,y_train,batch_size=batchsize,epochs=epochs,validation_data=(X_val,y_val),\n",
    "                 callbacks=[learning_rate_reduction])"
   ]
  },
  {
   "cell_type": "code",
   "execution_count": 45,
   "id": "0d05c274",
   "metadata": {},
   "outputs": [
    {
     "name": "stdout",
     "output_type": "stream",
     "text": [
      "875/875 [==============================] - 5s 6ms/step\n"
     ]
    }
   ],
   "source": [
    "result=np.argmax(model2.predict(test),axis=1)\n",
    "\n",
    "submission=pd.DataFrame({\n",
    "    'ImageId':range(1,28001),\n",
    "    'Label':result\n",
    "})"
   ]
  },
  {
   "cell_type": "code",
   "execution_count": 46,
   "id": "bbb5d3be",
   "metadata": {},
   "outputs": [],
   "source": [
    "submission.to_csv('submission.csv',index=None)"
   ]
  },
  {
   "cell_type": "code",
   "execution_count": 47,
   "id": "d202f09f",
   "metadata": {},
   "outputs": [],
   "source": [
    "model3=clone_model(model)\n",
    "model3.compile(optimizer=optimizer,loss='categorical_crossentropy',metrics='accuracy')"
   ]
  },
  {
   "cell_type": "code",
   "execution_count": 48,
   "id": "593ebaa8",
   "metadata": {},
   "outputs": [
    {
     "name": "stderr",
     "output_type": "stream",
     "text": [
      "2023-07-04 12:09:04.129006: I tensorflow/core/common_runtime/executor.cc:1197] [/device:CPU:0] (DEBUG INFO) Executor start aborting (this does not indicate an error and you can ignore this message): INVALID_ARGUMENT: You must feed a value for placeholder tensor 'Placeholder/_0' with dtype int32\n",
      "\t [[{{node Placeholder/_0}}]]\n"
     ]
    },
    {
     "name": "stdout",
     "output_type": "stream",
     "text": [
      "Epoch 1/30\n",
      "589/590 [============================>.] - ETA: 0s - loss: 0.3753 - accuracy: 0.8783WARNING:tensorflow:Learning rate reduction is conditioned on metric `val_acc` which is not available. Available metrics are: loss,accuracy,val_loss,val_accuracy,lr\n",
      "590/590 [==============================] - 15s 26ms/step - loss: 0.3748 - accuracy: 0.8785 - val_loss: 0.0633 - val_accuracy: 0.9793 - lr: 0.0010\n",
      "Epoch 2/30\n",
      "590/590 [==============================] - ETA: 0s - loss: 0.1242 - accuracy: 0.9636WARNING:tensorflow:Learning rate reduction is conditioned on metric `val_acc` which is not available. Available metrics are: loss,accuracy,val_loss,val_accuracy,lr\n",
      "590/590 [==============================] - 15s 25ms/step - loss: 0.1242 - accuracy: 0.9636 - val_loss: 0.0520 - val_accuracy: 0.9826 - lr: 0.0010\n",
      "Epoch 3/30\n",
      "589/590 [============================>.] - ETA: 0s - loss: 0.0984 - accuracy: 0.9713WARNING:tensorflow:Learning rate reduction is conditioned on metric `val_acc` which is not available. Available metrics are: loss,accuracy,val_loss,val_accuracy,lr\n",
      "590/590 [==============================] - 15s 26ms/step - loss: 0.0983 - accuracy: 0.9713 - val_loss: 0.0545 - val_accuracy: 0.9862 - lr: 0.0010\n",
      "Epoch 4/30\n",
      "589/590 [============================>.] - ETA: 0s - loss: 0.0800 - accuracy: 0.9758WARNING:tensorflow:Learning rate reduction is conditioned on metric `val_acc` which is not available. Available metrics are: loss,accuracy,val_loss,val_accuracy,lr\n",
      "590/590 [==============================] - 15s 25ms/step - loss: 0.0800 - accuracy: 0.9758 - val_loss: 0.0311 - val_accuracy: 0.9902 - lr: 0.0010\n",
      "Epoch 5/30\n",
      "590/590 [==============================] - ETA: 0s - loss: 0.0748 - accuracy: 0.9783WARNING:tensorflow:Learning rate reduction is conditioned on metric `val_acc` which is not available. Available metrics are: loss,accuracy,val_loss,val_accuracy,lr\n",
      "590/590 [==============================] - 15s 25ms/step - loss: 0.0748 - accuracy: 0.9783 - val_loss: 0.0409 - val_accuracy: 0.9862 - lr: 0.0010\n",
      "Epoch 6/30\n",
      "590/590 [==============================] - ETA: 0s - loss: 0.0737 - accuracy: 0.9796WARNING:tensorflow:Learning rate reduction is conditioned on metric `val_acc` which is not available. Available metrics are: loss,accuracy,val_loss,val_accuracy,lr\n",
      "590/590 [==============================] - 15s 25ms/step - loss: 0.0737 - accuracy: 0.9796 - val_loss: 0.0311 - val_accuracy: 0.9912 - lr: 0.0010\n",
      "Epoch 7/30\n",
      "589/590 [============================>.] - ETA: 0s - loss: 0.0705 - accuracy: 0.9802WARNING:tensorflow:Learning rate reduction is conditioned on metric `val_acc` which is not available. Available metrics are: loss,accuracy,val_loss,val_accuracy,lr\n",
      "590/590 [==============================] - 15s 25ms/step - loss: 0.0703 - accuracy: 0.9803 - val_loss: 0.0291 - val_accuracy: 0.9910 - lr: 0.0010\n",
      "Epoch 8/30\n",
      "589/590 [============================>.] - ETA: 0s - loss: 0.0673 - accuracy: 0.9809WARNING:tensorflow:Learning rate reduction is conditioned on metric `val_acc` which is not available. Available metrics are: loss,accuracy,val_loss,val_accuracy,lr\n",
      "590/590 [==============================] - 15s 25ms/step - loss: 0.0673 - accuracy: 0.9809 - val_loss: 0.0413 - val_accuracy: 0.9895 - lr: 0.0010\n",
      "Epoch 9/30\n",
      "590/590 [==============================] - ETA: 0s - loss: 0.0702 - accuracy: 0.9808WARNING:tensorflow:Learning rate reduction is conditioned on metric `val_acc` which is not available. Available metrics are: loss,accuracy,val_loss,val_accuracy,lr\n",
      "590/590 [==============================] - 15s 25ms/step - loss: 0.0702 - accuracy: 0.9808 - val_loss: 0.0315 - val_accuracy: 0.9907 - lr: 0.0010\n",
      "Epoch 10/30\n",
      "589/590 [============================>.] - ETA: 0s - loss: 0.0694 - accuracy: 0.9812WARNING:tensorflow:Learning rate reduction is conditioned on metric `val_acc` which is not available. Available metrics are: loss,accuracy,val_loss,val_accuracy,lr\n",
      "590/590 [==============================] - 15s 25ms/step - loss: 0.0695 - accuracy: 0.9812 - val_loss: 0.0418 - val_accuracy: 0.9895 - lr: 0.0010\n",
      "Epoch 11/30\n",
      "590/590 [==============================] - ETA: 0s - loss: 0.0679 - accuracy: 0.9818WARNING:tensorflow:Learning rate reduction is conditioned on metric `val_acc` which is not available. Available metrics are: loss,accuracy,val_loss,val_accuracy,lr\n",
      "590/590 [==============================] - 15s 25ms/step - loss: 0.0679 - accuracy: 0.9818 - val_loss: 0.0428 - val_accuracy: 0.9905 - lr: 0.0010\n",
      "Epoch 12/30\n",
      "588/590 [============================>.] - ETA: 0s - loss: 0.0703 - accuracy: 0.9817WARNING:tensorflow:Learning rate reduction is conditioned on metric `val_acc` which is not available. Available metrics are: loss,accuracy,val_loss,val_accuracy,lr\n",
      "590/590 [==============================] - 15s 25ms/step - loss: 0.0700 - accuracy: 0.9818 - val_loss: 0.0386 - val_accuracy: 0.9924 - lr: 0.0010\n",
      "Epoch 13/30\n",
      "590/590 [==============================] - ETA: 0s - loss: 0.0754 - accuracy: 0.9803WARNING:tensorflow:Learning rate reduction is conditioned on metric `val_acc` which is not available. Available metrics are: loss,accuracy,val_loss,val_accuracy,lr\n",
      "590/590 [==============================] - 15s 25ms/step - loss: 0.0754 - accuracy: 0.9803 - val_loss: 0.0356 - val_accuracy: 0.9919 - lr: 0.0010\n",
      "Epoch 14/30\n",
      "588/590 [============================>.] - ETA: 0s - loss: 0.0746 - accuracy: 0.9803WARNING:tensorflow:Learning rate reduction is conditioned on metric `val_acc` which is not available. Available metrics are: loss,accuracy,val_loss,val_accuracy,lr\n",
      "590/590 [==============================] - 15s 25ms/step - loss: 0.0746 - accuracy: 0.9802 - val_loss: 0.0366 - val_accuracy: 0.9907 - lr: 0.0010\n",
      "Epoch 15/30\n",
      "589/590 [============================>.] - ETA: 0s - loss: 0.0763 - accuracy: 0.9801WARNING:tensorflow:Learning rate reduction is conditioned on metric `val_acc` which is not available. Available metrics are: loss,accuracy,val_loss,val_accuracy,lr\n",
      "590/590 [==============================] - 15s 25ms/step - loss: 0.0762 - accuracy: 0.9802 - val_loss: 0.0364 - val_accuracy: 0.9926 - lr: 0.0010\n",
      "Epoch 16/30\n",
      "588/590 [============================>.] - ETA: 0s - loss: 0.0777 - accuracy: 0.9797WARNING:tensorflow:Learning rate reduction is conditioned on metric `val_acc` which is not available. Available metrics are: loss,accuracy,val_loss,val_accuracy,lr\n",
      "590/590 [==============================] - 15s 25ms/step - loss: 0.0777 - accuracy: 0.9796 - val_loss: 0.0321 - val_accuracy: 0.9924 - lr: 0.0010\n",
      "Epoch 17/30\n",
      "588/590 [============================>.] - ETA: 0s - loss: 0.0816 - accuracy: 0.9792WARNING:tensorflow:Learning rate reduction is conditioned on metric `val_acc` which is not available. Available metrics are: loss,accuracy,val_loss,val_accuracy,lr\n",
      "590/590 [==============================] - 15s 25ms/step - loss: 0.0817 - accuracy: 0.9792 - val_loss: 0.0409 - val_accuracy: 0.9910 - lr: 0.0010\n",
      "Epoch 18/30\n",
      "588/590 [============================>.] - ETA: 0s - loss: 0.0814 - accuracy: 0.9799WARNING:tensorflow:Learning rate reduction is conditioned on metric `val_acc` which is not available. Available metrics are: loss,accuracy,val_loss,val_accuracy,lr\n",
      "590/590 [==============================] - 15s 25ms/step - loss: 0.0813 - accuracy: 0.9799 - val_loss: 0.0335 - val_accuracy: 0.9924 - lr: 0.0010\n",
      "Epoch 19/30\n",
      "589/590 [============================>.] - ETA: 0s - loss: 0.0835 - accuracy: 0.9794WARNING:tensorflow:Learning rate reduction is conditioned on metric `val_acc` which is not available. Available metrics are: loss,accuracy,val_loss,val_accuracy,lr\n",
      "590/590 [==============================] - 15s 25ms/step - loss: 0.0834 - accuracy: 0.9794 - val_loss: 0.0472 - val_accuracy: 0.9919 - lr: 0.0010\n",
      "Epoch 20/30\n",
      "590/590 [==============================] - ETA: 0s - loss: 0.0862 - accuracy: 0.9777WARNING:tensorflow:Learning rate reduction is conditioned on metric `val_acc` which is not available. Available metrics are: loss,accuracy,val_loss,val_accuracy,lr\n",
      "590/590 [==============================] - 15s 25ms/step - loss: 0.0862 - accuracy: 0.9777 - val_loss: 0.0535 - val_accuracy: 0.9910 - lr: 0.0010\n",
      "Epoch 21/30\n",
      "588/590 [============================>.] - ETA: 0s - loss: 0.0849 - accuracy: 0.9792WARNING:tensorflow:Learning rate reduction is conditioned on metric `val_acc` which is not available. Available metrics are: loss,accuracy,val_loss,val_accuracy,lr\n",
      "590/590 [==============================] - 15s 25ms/step - loss: 0.0849 - accuracy: 0.9792 - val_loss: 0.0624 - val_accuracy: 0.9886 - lr: 0.0010\n",
      "Epoch 22/30\n",
      "588/590 [============================>.] - ETA: 0s - loss: 0.0894 - accuracy: 0.9780WARNING:tensorflow:Learning rate reduction is conditioned on metric `val_acc` which is not available. Available metrics are: loss,accuracy,val_loss,val_accuracy,lr\n",
      "590/590 [==============================] - 15s 25ms/step - loss: 0.0898 - accuracy: 0.9780 - val_loss: 0.0418 - val_accuracy: 0.9905 - lr: 0.0010\n",
      "Epoch 23/30\n",
      "589/590 [============================>.] - ETA: 0s - loss: 0.0926 - accuracy: 0.9787WARNING:tensorflow:Learning rate reduction is conditioned on metric `val_acc` which is not available. Available metrics are: loss,accuracy,val_loss,val_accuracy,lr\n",
      "590/590 [==============================] - 15s 25ms/step - loss: 0.0926 - accuracy: 0.9787 - val_loss: 0.0487 - val_accuracy: 0.9907 - lr: 0.0010\n",
      "Epoch 24/30\n",
      "590/590 [==============================] - ETA: 0s - loss: 0.0924 - accuracy: 0.9782WARNING:tensorflow:Learning rate reduction is conditioned on metric `val_acc` which is not available. Available metrics are: loss,accuracy,val_loss,val_accuracy,lr\n",
      "590/590 [==============================] - 15s 25ms/step - loss: 0.0924 - accuracy: 0.9782 - val_loss: 0.0564 - val_accuracy: 0.9898 - lr: 0.0010\n",
      "Epoch 25/30\n",
      "590/590 [==============================] - ETA: 0s - loss: 0.0971 - accuracy: 0.9773WARNING:tensorflow:Learning rate reduction is conditioned on metric `val_acc` which is not available. Available metrics are: loss,accuracy,val_loss,val_accuracy,lr\n",
      "590/590 [==============================] - 15s 25ms/step - loss: 0.0971 - accuracy: 0.9773 - val_loss: 0.0484 - val_accuracy: 0.9912 - lr: 0.0010\n",
      "Epoch 26/30\n",
      "590/590 [==============================] - ETA: 0s - loss: 0.0970 - accuracy: 0.9772WARNING:tensorflow:Learning rate reduction is conditioned on metric `val_acc` which is not available. Available metrics are: loss,accuracy,val_loss,val_accuracy,lr\n",
      "590/590 [==============================] - 15s 25ms/step - loss: 0.0970 - accuracy: 0.9772 - val_loss: 0.0426 - val_accuracy: 0.9917 - lr: 0.0010\n",
      "Epoch 27/30\n",
      "590/590 [==============================] - ETA: 0s - loss: 0.1002 - accuracy: 0.9761WARNING:tensorflow:Learning rate reduction is conditioned on metric `val_acc` which is not available. Available metrics are: loss,accuracy,val_loss,val_accuracy,lr\n",
      "590/590 [==============================] - 15s 25ms/step - loss: 0.1002 - accuracy: 0.9761 - val_loss: 0.0478 - val_accuracy: 0.9902 - lr: 0.0010\n",
      "Epoch 28/30\n",
      "589/590 [============================>.] - ETA: 0s - loss: 0.1022 - accuracy: 0.9758WARNING:tensorflow:Learning rate reduction is conditioned on metric `val_acc` which is not available. Available metrics are: loss,accuracy,val_loss,val_accuracy,lr\n",
      "590/590 [==============================] - 15s 26ms/step - loss: 0.1022 - accuracy: 0.9759 - val_loss: 0.0685 - val_accuracy: 0.9893 - lr: 0.0010\n",
      "Epoch 29/30\n",
      "589/590 [============================>.] - ETA: 0s - loss: 0.0962 - accuracy: 0.9778WARNING:tensorflow:Learning rate reduction is conditioned on metric `val_acc` which is not available. Available metrics are: loss,accuracy,val_loss,val_accuracy,lr\n",
      "590/590 [==============================] - 15s 25ms/step - loss: 0.0961 - accuracy: 0.9778 - val_loss: 0.0687 - val_accuracy: 0.9871 - lr: 0.0010\n",
      "Epoch 30/30\n",
      "589/590 [============================>.] - ETA: 0s - loss: 0.1058 - accuracy: 0.9757WARNING:tensorflow:Learning rate reduction is conditioned on metric `val_acc` which is not available. Available metrics are: loss,accuracy,val_loss,val_accuracy,lr\n",
      "590/590 [==============================] - 15s 26ms/step - loss: 0.1057 - accuracy: 0.9757 - val_loss: 0.0500 - val_accuracy: 0.9895 - lr: 0.0010\n"
     ]
    }
   ],
   "source": [
    "history_2=model3.fit(datagen.flow(X_train,y_train,batch_size=batchsize),epochs=epochs,\n",
    "                             validation_data=(X_val,y_val),\n",
    "                             callbacks=[learning_rate_reduction],steps_per_epoch=X_train.shape[0]//batchsize)"
   ]
  },
  {
   "cell_type": "code",
   "execution_count": 49,
   "id": "3641b29a",
   "metadata": {},
   "outputs": [
    {
     "name": "stdout",
     "output_type": "stream",
     "text": [
      "875/875 [==============================] - 5s 6ms/step\n"
     ]
    }
   ],
   "source": [
    "result=np.argmax(model2.predict(test),axis=1)\n",
    "\n",
    "submission=pd.DataFrame({\n",
    "    'ImageId':range(1,28001),\n",
    "    'Label':result\n",
    "})"
   ]
  },
  {
   "cell_type": "code",
   "execution_count": 50,
   "id": "ef824ed3",
   "metadata": {},
   "outputs": [],
   "source": [
    "submission.to_csv('submission1.csv',index=None)"
   ]
  },
  {
   "cell_type": "code",
   "execution_count": null,
   "id": "41987ed7",
   "metadata": {},
   "outputs": [],
   "source": []
  }
 ],
 "metadata": {
  "kernelspec": {
   "display_name": "Python 3 (Spyder)",
   "language": "python3",
   "name": "python3"
  },
  "language_info": {
   "codemirror_mode": {
    "name": "ipython",
    "version": 3
   },
   "file_extension": ".py",
   "mimetype": "text/x-python",
   "name": "python",
   "nbconvert_exporter": "python",
   "pygments_lexer": "ipython3",
   "version": "3.10.6"
  }
 },
 "nbformat": 4,
 "nbformat_minor": 5
}
